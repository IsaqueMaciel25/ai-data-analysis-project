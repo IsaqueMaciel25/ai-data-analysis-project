{
 "cells": [
  {
   "cell_type": "markdown",
   "metadata": {},
   "source": [
    "# Data Analysis Workflow\n",
    "\n",
    "This notebook contains the data analysis workflow for the AI Data Analysis Project. It includes data exploration, visualization, and insights derived from the data."
   ]
  },
  {
   "cell_type": "code",
   "execution_count": null,
   "metadata": {},
   "outputs": [],
   "source": [
    "# Import necessary libraries\n",
    "import pandas as pd\n",
    "import numpy as np\n",
    "import matplotlib.pyplot as plt\n",
    "import seaborn as sns\n",
    "\n",
    "# Set visualization style\n",
    "sns.set(style='whitegrid')"
   ]
  },
  {
   "cell_type": "code",
   "execution_count": null,
   "metadata": {},
   "outputs": [],
   "source": [
    "# Load the dataset\n",
    "data = pd.read_csv('../data/processed/cleaned_data.csv')\n",
    "\n",
    "# Display the first few rows of the dataset\n",
    "data.head()"
   ]
  },
  {
   "cell_type": "code",
   "execution_count": null,
   "metadata": {},
   "outputs": [],
   "source": [
    "# Análise de vendas e pós-venda na indústria de café\n",
    "\n",
    "# Exemplo de análise de vendas\n",
    "# Supondo que o dataset contém colunas como 'sales_volume', 'revenue', 'customer_satisfaction'\n",
    "\n",
    "# Análise de volume de vendas ao longo do tempo\n",
    "plt.figure(figsize=(12, 6))\n",
    "sns.lineplot(data=data, x='date', y='sales_volume', marker='o')\n",
    "plt.title('Volume de Vendas ao Longo do Tempo')\n",
    "plt.xlabel('Data')\n",
    "plt.ylabel('Volume de Vendas')\n",
    "plt.show()\n",
    "\n",
    "# Análise de receita ao longo do tempo\n",
    "plt.figure(figsize=(12, 6))\n",
    "sns.lineplot(data=data, x='date', y='revenue', marker='o', color='green')\n",
    "plt.title('Receita ao Longo do Tempo')\n",
    "plt.xlabel('Data')\n",
    "plt.ylabel('Receita')\n",
    "plt.show()\n",
    "\n",
    "# Análise de satisfação do cliente\n",
    "plt.figure(figsize=(12, 6))\n",
    "sns.histplot(data['customer_satisfaction'], bins=10, kde=True, color='orange')\n",
    "plt.title('Distribuição da Satisfação do Cliente')\n",
    "plt.xlabel('Satisfação do Cliente')\n",
    "plt.ylabel('Frequência')\n",
    "plt.show()"
   ]
  },
  {
   "cell_type": "code",
   "execution_count": null,
   "metadata": {},
   "outputs": [],
   "source": [
    "# Data exploration\n",
    "# Summary statistics\n",
    "data.describe()"
   ]
  },
  {
   "cell_type": "code",
   "execution_count": null,
   "metadata": {
    "vscode": {
     "languageId": "lua"
    }
   },
   "outputs": [],
   "source": [
    "# Análise de produtos não vendidos, produtos vendidos, estoque e produção\n",
    "\n",
    "# Produtos não vendidos\n",
    "unsold_products = data[data['units_sold'] == 0]\n",
    "print(f\"Total de produtos não vendidos: {len(unsold_products)}\")\n",
    "print(unsold_products[['product_name', 'stock', 'production']])\n",
    "\n",
    "# Produtos vendidos\n",
    "sold_products = data[data['units_sold'] > 0]\n",
    "print(f\"Total de produtos vendidos: {len(sold_products)}\")\n",
    "print(sold_products[['product_name', 'units_sold', 'stock', 'production']])\n",
    "\n",
    "# Análise de estoque\n",
    "plt.figure(figsize=(12, 6))\n",
    "sns.histplot(data['stock'], bins=20, kde=True, color='blue')\n",
    "plt.title('Distribuição de Estoque')\n",
    "plt.xlabel('Estoque')\n",
    "plt.ylabel('Frequência')\n",
    "plt.show()\n",
    "\n",
    "# Análise de produção\n",
    "plt.figure(figsize=(12, 6))\n",
    "sns.histplot(data['production'], bins=20, kde=True, color='purple')\n",
    "plt.title('Distribuição de Produção')\n",
    "plt.xlabel('Produção')\n",
    "plt.ylabel('Frequência')\n",
    "plt.show()"
   ]
  },
  {
   "cell_type": "code",
   "execution_count": null,
   "metadata": {},
   "outputs": [],
   "source": [
    "# Data visualization\n",
    "# Example: Distribution of a specific feature\n",
    "plt.figure(figsize=(10, 6))\n",
    "sns.histplot(data['feature_name'], bins=30, kde=True)\n",
    "plt.title('Distribution of Feature Name')\n",
    "plt.xlabel('Feature Name')\n",
    "plt.ylabel('Frequency')\n",
    "plt.show()"
   ]
  },
  {
   "cell_type": "code",
   "execution_count": null,
   "metadata": {},
   "outputs": [],
   "source": [
    "# Insights derived from the data\n",
    "# Example: Correlation matrix\n",
    "plt.figure(figsize=(12, 8))\n",
    "correlation_matrix = data.corr()\n",
    "sns.heatmap(correlation_matrix, annot=True, fmt='.2f', cmap='coolwarm')\n",
    "plt.title('Correlation Matrix')\n",
    "plt.show()"
   ]
  }
 ],
 "metadata": {
  "kernelspec": {
   "display_name": "Python 3",
   "language": "python",
   "name": "python3"
  },
  "language_info": {
   "codemirror_mode": {
    "name": "ipython",
    "version": 3
   },
   "file_extension": ".py",
   "mimetype": "text/x-python",
   "name": "python",
   "nbconvert_exporter": "python",
   "pygments_lexer": "ipython3",
   "version": "3.8.5"
  }
 },
 "nbformat": 4,
 "nbformat_minor": 4
}
